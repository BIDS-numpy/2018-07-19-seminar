{
 "cells": [
  {
   "cell_type": "markdown",
   "metadata": {},
   "source": [
    "# Introduction to NumPy\n",
    "\n",
    "## Program\n",
    "\n",
    "- [Python and Jupyter Notebook](notebooks/intro.ipynb)\n",
    "- [Python refresher](notebooks/python_refresher.ipynb)\n",
    "- [NumPy basics](notebooks/numpy_basics.ipynb)\n",
    "- [matplotlib and SciPy](notebooks/matplotlib_SciPy.ipynb)\n",
    "- [Putting it together](notebooks/putting_it_all_together.ipynb)"
   ]
  },
  {
   "cell_type": "code",
   "execution_count": null,
   "metadata": {},
   "outputs": [],
   "source": []
  }
 ],
 "metadata": {
  "kernelspec": {
   "display_name": "Python 3",
   "language": "python",
   "name": "python3"
  },
  "language_info": {
   "codemirror_mode": {
    "name": "ipython",
    "version": 3
   },
   "file_extension": ".py",
   "mimetype": "text/x-python",
   "name": "python",
   "nbconvert_exporter": "python",
   "pygments_lexer": "ipython3",
   "version": "3.6.6rc1"
  }
 },
 "nbformat": 4,
 "nbformat_minor": 2
}
