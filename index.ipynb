{
 "cells": [
  {
   "cell_type": "markdown",
   "metadata": {},
   "source": [
    "# Introduction to NumPy\n",
    "\n",
    "## Program\n",
    "\n",
    "- [Python and Jupyter Notebook](notebooks/intro.ipynb)\n",
    "- [Python refresher](notebooks/python_refresher.ipynb)\n",
    "- [NumPy basics](notebooks/numpy_basics.ipynb)\n",
    "- [matplotlib and SciPy](notebooks/matplotlib_SciPy.ipynb)\n",
    "- [Putting it together](notebooks/putting_it_all_together.ipynb)"
   ]
  },
  {
   "cell_type": "markdown",
   "metadata": {},
   "source": [
    "## Lecture material\n",
    "\n",
    "1. Go to https://github.com/BIDS-numpy/2018-07-19-seminar\n",
    "2. If you know how to use `git`, clone this repository\n",
    "3. Otherwise, click the green \"Clone or download\" button, and then click the link to the zip file.  Extract the zip file in a convenient location."
   ]
  },
  {
   "cell_type": "markdown",
   "metadata": {},
   "source": [
    "## Schedule\n",
    "\n",
    "```\n",
    "09:30–10:15   Jupyter & Python refresher\n",
    "10:45–12:00   NumPy basics\n",
    "14:00–15:00   SciPy & Matplotlib\n",
    "15:30–16:30   Practical\n",
    "```"
   ]
  }
 ],
 "metadata": {
  "kernelspec": {
   "display_name": "Python 3",
   "language": "python",
   "name": "python3"
  },
  "language_info": {
   "codemirror_mode": {
    "name": "ipython",
    "version": 3
   },
   "file_extension": ".py",
   "mimetype": "text/x-python",
   "name": "python",
   "nbconvert_exporter": "python",
   "pygments_lexer": "ipython3",
   "version": "3.6.5"
  }
 },
 "nbformat": 4,
 "nbformat_minor": 2
}
