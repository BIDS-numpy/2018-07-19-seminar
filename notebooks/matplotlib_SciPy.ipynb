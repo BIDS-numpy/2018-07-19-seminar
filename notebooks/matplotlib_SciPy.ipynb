{
 "cells": [
  {
   "cell_type": "markdown",
   "metadata": {},
   "source": [
    "## matplotlib (plotting) and SciPy (scientific algorithms) libraries "
   ]
  },
  {
   "cell_type": "markdown",
   "metadata": {},
   "source": [
    "The SciPy library provides an emormous variety of scientific algorithms, exposed in the Python language,\n",
    "but often written in low-level languages like C and Fortran to empower us with the fastest performance. \n",
    "Many of these algorithms are too \"heavy\" to be implemented in the basic NumPy library; however, SciPy\n",
    "is built upon the data structures and operations enabled by NumPy and the two libraries are often\n",
    "used side-by-side.\n",
    "\n",
    "Let's start with a common problem in many scientific disciplines -- calculating the Voronoi diagram\n",
    "for a set of data points. Since this problem falls into the category of \"computational geometry,\"\n",
    "the SciPy developers have placed it in the scipy.spatial submodule with other spatial algorithms\n",
    "and data structures."
   ]
  },
  {
   "cell_type": "code",
   "execution_count": null,
   "metadata": {},
   "outputs": [],
   "source": [
    "import numpy as np\n",
    "import scipy\n",
    "import scipy.spatial\n",
    "import matplotlib\n",
    "matplotlib.use('agg')\n",
    "%matplotlib inline\n",
    "import matplotlib.pyplot as plt\n",
    "\n",
    "# we start off with a set of random points, which may for example represent\n",
    "# standing trees in a forest after a forest fire event\n",
    "tree_positions = np.random.randn(15, 2)"
   ]
  },
  {
   "cell_type": "code",
   "execution_count": null,
   "metadata": {},
   "outputs": [],
   "source": [
    "# at this point, it is already helpful to first take a look at the positions of the trees on the 2D \"map\"\n",
    "# let's start using matplotlib for this work\n",
    "\n",
    "# first generate a figure object\n",
    "fig = plt.figure()\n",
    "\n",
    "# then create an axis object (which can be used for adding the data and labels)\n",
    "ax = fig.add_subplot(111) # 111 means 1 row, 1 column, 1st plot in our figure \"panel\"\n",
    "\n",
    "# scatter plot the 2D tree position data\n",
    "ax.scatter(tree_positions[...,0], # x coordinates\n",
    "           tree_positions[...,1]) # y coordinates\n",
    "\n",
    "ax.set_title(\"Trees Remaining After Forest Fire\")\n",
    "ax.set_xlabel('x')\n",
    "ax.set_ylabel('y')\n",
    "ax.set_xlim(-3, 3)\n",
    "ax.set_ylim(-3, 3)"
   ]
  },
  {
   "cell_type": "code",
   "execution_count": null,
   "metadata": {},
   "outputs": [],
   "source": [
    "# The Voronoi diagram will tell us which parts of the forest are closest to which tree\n",
    "# This can be used i.e., as an estimate of the amount of area occupied by each tree (the area around it)\n",
    "\n",
    "vor = scipy.spatial.Voronoi(tree_positions)\n",
    "\n",
    "# it is such a common operation to plot the Voronoi diagram of a set of 2D generators\n",
    "# that SciPy can plot the diagram (using matplotlib under the hood) directly\n",
    "# from the vor object above\n",
    "\n",
    "fig_vor = scipy.spatial.voronoi_plot_2d(vor)\n",
    "axis = fig_vor.get_axes()[0]\n",
    "axis.set_xlim(-3, 3)\n",
    "axis.set_ylim(-3, 3)"
   ]
  },
  {
   "cell_type": "code",
   "execution_count": null,
   "metadata": {},
   "outputs": [],
   "source": [
    "# let's take a step back though & see if we can generate a similar plot using the\n",
    "# vor object and matplotlib (instead of using voronoi_plot_2d directly), as an\n",
    "# exercise in learning about matplotlib and SciPy\n",
    "\n",
    "# the blue points above are the \"generators,\" while the orange points are the Voronoi\n",
    "# vertices bounding the Voronoi regions\n",
    "\n",
    "fig_manual = plt.figure()\n",
    "ax_manual = fig_manual.add_subplot(111)\n",
    "\n",
    "# there's a convenient way to access the Voronoi vertices in SciPy\n",
    "vor_vertices = vor.vertices\n",
    "ax_manual.scatter(vor_vertices[...,0], # x coords\n",
    "           vor_vertices[...,1], # y coords\n",
    "           color='orange')\n",
    "\n",
    "# to connect the Voronoi vertices into the Voronoi edges (the polygon\n",
    "# edges that enclose Voronoi regions) we can use the \"ridges:\"\"\n",
    "vor_ridges = vor.ridge_vertices\n",
    "\n",
    "# the above ridges are actually indices of Voronoi vertices, so we\n",
    "# will iterate through and plot accordingly\n",
    "for edge in vor_ridges:\n",
    "    if -1 in edge:\n",
    "        # some edges can continue to infinity\n",
    "        # those are dashed lines in voronoi_plot_2d, but let's\n",
    "        # ignore them here\n",
    "        continue\n",
    "    edge_start = vor_vertices[edge[0]]\n",
    "    edge_end = vor_vertices[edge[1]]\n",
    "    ax_manual.plot([edge_start[0], edge_end[0]], # the two x coords\n",
    "                   [edge_start[1], edge_end[1]], # the two y coords\n",
    "                   color='black')\n",
    "    \n",
    "ax_manual.set_xlim(-3, 3)\n",
    "ax_manual.set_ylim(-3, 3)\n",
    "\n",
    "# let's add the generators back in as well, to facilitate comparison\n",
    "# with plot above\n",
    "ax_manual.scatter(tree_positions[...,0], # x coordinates\n",
    "                  tree_positions[...,1], # y coordinates\n",
    "                  color='blue') "
   ]
  },
  {
   "cell_type": "markdown",
   "metadata": {},
   "source": [
    "So, the plots look pretty similar whether we use matplotlib manually in conjunction with SciPy or if we use the the built-in convenience function voronoi_plot_2d()"
   ]
  },
  {
   "cell_type": "code",
   "execution_count": null,
   "metadata": {},
   "outputs": [],
   "source": [
    "# if we instead wanted to calculate the area of the entire forest we could do that quite easily\n",
    "# with SciPy as well by wrapping all the trees with an \"elastic band\" (the Convex Hull)\n",
    "\n",
    "hull = scipy.spatial.ConvexHull(tree_positions)\n",
    "forest_area = hull.area\n",
    "forest_area"
   ]
  },
  {
   "cell_type": "code",
   "execution_count": null,
   "metadata": {},
   "outputs": [],
   "source": [
    "# to confirm the elastic band nature of the Convex Hull, let's plot it using\n",
    "# matplotlib as usual\n",
    "hull_fig = plt.figure()\n",
    "hull_ax = hull_fig.add_subplot(111)\n",
    "for simplex in hull.simplices:\n",
    "    hull_ax.plot(hull.points[simplex, 0],\n",
    "                 hull.points[simplex, 1],\n",
    "                 '-',\n",
    "                 lw=6)\n",
    "    \n",
    "# and restore scatter of the tree positions as well\n",
    "hull_ax.scatter(tree_positions[...,0], # x coordinates\n",
    "                tree_positions[...,1], # y coordinates\n",
    "                color='black',\n",
    "                s=200) "
   ]
  },
  {
   "cell_type": "markdown",
   "metadata": {},
   "source": [
    "Now, perhaps we've discovered that the region affected by the forest fire can actually be estimated as the area between\n",
    "a curve defined by a function and a roughly straight line ocean / coastal boundary.\n",
    "\n",
    "Let's say this may be expressed as the following definite integral:\n",
    "\n",
    "$$\\int_{-3}^{3} (x^2 + 5x + 30) \\,dx$$"
   ]
  },
  {
   "cell_type": "code",
   "execution_count": null,
   "metadata": {},
   "outputs": [],
   "source": [
    "# if we want to estimate the numerical result of that definite integral (area affected by forest fire)\n",
    "# we'll want to use scipy.integrate.quad()\n",
    "import scipy.integrate\n",
    "\n",
    "# start by defining the function of interest\n",
    "def forest_func(x):\n",
    "    return x ** 2 + (5 * x) + 30\n",
    "\n",
    "# call quad() using the function name and the limits of the definite integral\n",
    "area_estimate, upper_bound_error = scipy.integrate.quad(forest_func, -3, 3)\n",
    "area_estimate, upper_bound_error"
   ]
  },
  {
   "cell_type": "code",
   "execution_count": null,
   "metadata": {},
   "outputs": [],
   "source": [
    "# let's plot the function over the limits of integration and shade in the\n",
    "# area we just estimated\n",
    "\n",
    "from matplotlib.patches import Polygon\n",
    "fig_integrate = plt.figure()\n",
    "ax_integrate = fig_integrate.add_subplot(111)\n",
    "\n",
    "# plot the function over a slightly wider limit range for clarity\n",
    "x = np.linspace(-5, 5)\n",
    "y = forest_func(x)\n",
    "ax_integrate.plot(x, y, 'black')\n",
    "\n",
    "# for the shaded region\n",
    "# see: https://matplotlib.org/examples/showcase/integral_demo.html\n",
    "ix = np.linspace(-3, 3)\n",
    "iy = forest_func(ix)\n",
    "verts = [(-3, 0)] + list(zip(ix, iy)) + [(3, 0)]\n",
    "poly = Polygon(verts, facecolor='blue', edgecolor='blue', alpha=0.3)\n",
    "ax_integrate.add_patch(poly)"
   ]
  },
  {
   "cell_type": "markdown",
   "metadata": {},
   "source": [
    "If we want to find the point on the curve (forest region) that is closest to the ocean / coastal boundary we might\n",
    "want to find the minimum of the function we just integrated. There are various ways to do this, but for demonstration\n",
    "purposes let's try to *minimize* our function using SciPy. Specifically, we'll use `scipy.optimize.minimize`"
   ]
  },
  {
   "cell_type": "code",
   "execution_count": null,
   "metadata": {},
   "outputs": [],
   "source": [
    "import scipy.optimize\n",
    "\n",
    "# this is a pretty naive optimization (I rarely use scipy.optimize)\n",
    "# we haven't specified the algorithm to use and so on\n",
    "# but maybe that's a good thing for clarity anyway\n",
    "optimization_result = scipy.optimize.minimize(fun=forest_func,\n",
    "                                              x0=250) # perhaps we're really bad at guessing the solution!\n",
    "\n",
    "optimization_result                                          "
   ]
  },
  {
   "cell_type": "markdown",
   "metadata": {},
   "source": [
    "`x` is the solution of the minimization / optimization, and `x = -2.5` looks about right for the minimum of our function above\n",
    "\n",
    "likewise, `fun` is the `y` value of our \"objective function\" at the minimum `x` value; again, the value of `23.75` looks about right based on visual inspection of this quadratic"
   ]
  },
  {
   "cell_type": "markdown",
   "metadata": {},
   "source": [
    "Now, let's say we want to take a close look at how our forest boundary is defined based on the set of discrete data points we have access to.\n",
    "Perhaps we've discovered that we actually only have about 10 data points, which isn't very many"
   ]
  },
  {
   "cell_type": "code",
   "execution_count": null,
   "metadata": {},
   "outputs": [],
   "source": [
    "x = np.linspace(-5, 5, num=10)\n",
    "y = forest_func(x)\n",
    "\n",
    "# let's try two types of interpolation to connect our boundary points\n",
    "import scipy.interpolate\n",
    "\n",
    "# we first generate interpolation functions, which can then\n",
    "# operate on i.e., a denser range of x values\n",
    "f_linear = scipy.interpolate.interp1d(x, y)\n",
    "f_cubic = scipy.interpolate.interp1d(x, y, kind='cubic')\n",
    "\n",
    "x_new = np.linspace(-5, 5, num=15) # denser range for the interpolation plots\n",
    "\n",
    "# plot the interpolations\n",
    "# see: https://docs.scipy.org/doc/scipy/reference/tutorial/interpolate.html\n",
    "\n",
    "fig_interp = plt.figure()\n",
    "ax_interp = fig_interp.add_subplot(111)\n",
    "\n",
    "ax_interp.plot(x, y, 'o',\n",
    "               x_new, f_linear(x_new), '-',\n",
    "               x_new, f_cubic(x_new), '--')\n",
    "\n",
    "ax_interp.legend(['data', 'linear', 'cubic'], loc='best', fontsize=20)\n",
    "\n",
    "# focus on minimum of the quadratic to emphasize interpolation differences\n",
    "ax_interp.set_ylim(20, 32)\n",
    "\n",
    "fig_interp.set_size_inches(8, 8)\n"
   ]
  },
  {
   "cell_type": "markdown",
   "metadata": {},
   "source": [
    "So, perhaps cubic interpolation does a slightly better job of approximating the function in this case."
   ]
  },
  {
   "cell_type": "markdown",
   "metadata": {},
   "source": [
    "Let's imagine we've now been directed to study the behavioral / environmental impact of the forest fire in the affected area.\n",
    "\n",
    "Since the forest in question normally has two primary animals that generate noise at regular intervals during nighttime hours,\n",
    "we've gone ahead and recorded some audio data from several evenings. We'd now like to convert this periodic / time-domain\n",
    "data to frequency-based data so that we can confirm the species of animals generating the noises."
   ]
  },
  {
   "cell_type": "code",
   "execution_count": null,
   "metadata": {},
   "outputs": [],
   "source": [
    "# for this particular application (converting periodic time domain data to frequency domain data, Fourier transforms are appropriate)\n",
    "import scipy.fftpack\n",
    "\n",
    "# example inspired by: https://docs.scipy.org/doc/scipy/reference/tutorial/fftpack.html\n",
    "n_samples = 600\n",
    "sample_spacing = 1.0 / 800.0\n",
    "time_values = np.linspace(0.0, n_samples * sample_spacing, n_samples)\n",
    "recorded_values = np.sin(50.0 * 2.0*np.pi*time_values) + 0.5*np.sin(80.0 * 2.0*np.pi*time_values)\n",
    "\n",
    "# convert to frequency domain data using a Fast Fourier Transform\n",
    "y_freq = scipy.fftpack.fft(recorded_values)\n",
    "x_freq = np.linspace(0.0, 1.0/(2.0 * sample_spacing), n_samples // 2)\n",
    "\n",
    "fig_fft = plt.figure()\n",
    "ax_fft = fig_fft.add_subplot(111)\n",
    "\n",
    "# typically only the positive fft values are plotted\n",
    "\n",
    "ax_fft.plot(x_freq,\n",
    "            2.0 / n_samples * np.abs(y_freq[0:n_samples//2]))\n",
    "ax_fft.grid()\n",
    "ax_fft.set_xlabel('Frequency', fontsize=20)\n",
    "ax_fft.set_ylabel('Intensity', fontsize=20)"
   ]
  },
  {
   "cell_type": "markdown",
   "metadata": {},
   "source": [
    "Perhaps we could identify the two animal species that remain after the forest fire based on the audio frequency data above."
   ]
  },
  {
   "cell_type": "markdown",
   "metadata": {},
   "source": [
    "It turns out that a \"citizen scientist\" has managed to capture a photo of one of these suspected animal species, and while\n",
    "we think we know what it is, we'd eventually like to automate the process of classifying images submitted by citizens who live\n",
    "nearby. Perhaps we have a colleague who would like the image data processed through edge filtering, so that their special\n",
    "algorithm can just work on the edge data for classification.\n",
    "\n",
    "So, we will try to edge filter our data using some functionality from the SciPy signal processing submodule, `scipy.signal`"
   ]
  },
  {
   "cell_type": "code",
   "execution_count": null,
   "metadata": {},
   "outputs": [],
   "source": [
    "# inspired by SciPy signal processing tutorial content: https://docs.scipy.org/doc/scipy/reference/tutorial/signal.html\n",
    "import scipy.misc\n",
    "import scipy.signal\n",
    "\n",
    "# here is the image we are working with:\n",
    "image = scipy.misc.face(gray=True).astype(np.float32)\n",
    "\n",
    "fig_image = plt.figure()\n",
    "ax_image = fig_image.add_subplot(111)\n",
    "ax_image.imshow(image, cmap='gray')"
   ]
  },
  {
   "cell_type": "code",
   "execution_count": null,
   "metadata": {},
   "outputs": [],
   "source": [
    "# determine the B-spline interpolation coefficients to be used for edge filtering\n",
    "coefs = scipy.signal.cspline2d(image,\n",
    "                               8.0) # lambda specifies the amount of \"smoothing\"\n",
    "coefs.shape, image.shape"
   ]
  },
  {
   "cell_type": "code",
   "execution_count": null,
   "metadata": {},
   "outputs": [],
   "source": [
    "# define the so-called \"separation filter\"\n",
    "derfilt = np.array([1.0, -2, 1.0], dtype=np.float32)\n",
    "\n",
    "# we now effectively calculate a second derivative to get the important / transition \"edges\" from the original image\n",
    "deriv = (scipy.signal.sepfir2d(coefs, derfilt, [1]) + scipy.signal.sepfir2d(coefs, [1], derfilt))\n",
    "fig_image = plt.figure()\n",
    "ax_image = fig_image.add_subplot(111)\n",
    "ax_image.imshow(deriv, cmap='gray')"
   ]
  },
  {
   "cell_type": "markdown",
   "metadata": {},
   "source": [
    "Now we can send the `deriv` array to our colleague for processing (perhaps by pickling it, or using `np.savetxt` -- which may be more portable)"
   ]
  },
  {
   "cell_type": "code",
   "execution_count": null,
   "metadata": {},
   "outputs": [],
   "source": []
  },
  {
   "cell_type": "code",
   "execution_count": null,
   "metadata": {},
   "outputs": [],
   "source": []
  },
  {
   "cell_type": "code",
   "execution_count": null,
   "metadata": {},
   "outputs": [],
   "source": []
  },
  {
   "cell_type": "code",
   "execution_count": null,
   "metadata": {},
   "outputs": [],
   "source": []
  },
  {
   "cell_type": "code",
   "execution_count": null,
   "metadata": {},
   "outputs": [],
   "source": []
  },
  {
   "cell_type": "code",
   "execution_count": null,
   "metadata": {},
   "outputs": [],
   "source": []
  },
  {
   "cell_type": "code",
   "execution_count": null,
   "metadata": {},
   "outputs": [],
   "source": []
  },
  {
   "cell_type": "code",
   "execution_count": null,
   "metadata": {},
   "outputs": [],
   "source": []
  },
  {
   "cell_type": "code",
   "execution_count": null,
   "metadata": {},
   "outputs": [],
   "source": []
  },
  {
   "cell_type": "code",
   "execution_count": null,
   "metadata": {},
   "outputs": [],
   "source": []
  }
 ],
 "metadata": {
  "kernelspec": {
   "display_name": "Python 3",
   "language": "python",
   "name": "python3"
  },
  "language_info": {
   "codemirror_mode": {
    "name": "ipython",
    "version": 3
   },
   "file_extension": ".py",
   "mimetype": "text/x-python",
   "name": "python",
   "nbconvert_exporter": "python",
   "pygments_lexer": "ipython3",
   "version": "3.6.5"
  }
 },
 "nbformat": 4,
 "nbformat_minor": 2
}
