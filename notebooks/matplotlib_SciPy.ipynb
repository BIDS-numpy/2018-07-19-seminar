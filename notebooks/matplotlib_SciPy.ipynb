{
 "cells": [
  {
   "cell_type": "markdown",
   "metadata": {},
   "source": [
    "## matplotlib (plotting) and SciPy (scientific algorithms) libraries "
   ]
  },
  {
   "cell_type": "markdown",
   "metadata": {},
   "source": [
    "The SciPy library provides an emormous variety of scientific algorithms, exposed in the Python language,\n",
    "but often written in low-level languages like C and Fortran to empower us with the fastest performance. \n",
    "Many of these algorithms are too \"heavy\" to be implemented in the basic NumPy library; however, SciPy\n",
    "is built upon the data structures and operations enabled by NumPy and the two libraries are often\n",
    "used side-by-side.\n",
    "\n",
    "Let's start with a common problem in many scientific disciplines -- calculating the Voronoi diagram\n",
    "for a set of data points. Since this problem falls into the category of \"computational geometry,\"\n",
    "the SciPy developers have placed it in the scipy.spatial submodule with other spatial algorithms\n",
    "and data structures."
   ]
  },
  {
   "cell_type": "code",
   "execution_count": null,
   "metadata": {},
   "outputs": [],
   "source": [
    "import numpy as np\n",
    "import scipy\n",
    "import scipy.spatial\n",
    "import matplotlib\n",
    "%matplotlib inline\n",
    "import matplotlib.pyplot as plt\n",
    "\n",
    "# we start off with a set of random points, which may for example represent\n",
    "# standing trees in a forest after a forest fire event\n",
    "tree_positions = np.random.randn(15, 2)"
   ]
  },
  {
   "cell_type": "code",
   "execution_count": null,
   "metadata": {},
   "outputs": [],
   "source": [
    "# at this point, it is already helpful to first take a look at the positions of the trees on the 2D \"map\"\n",
    "# let's start using matplotlib for this work\n",
    "\n",
    "# first generate a figure object\n",
    "fig = plt.figure()\n",
    "\n",
    "# then create an axis object (which can be used for adding the data and labels)\n",
    "ax = fig.add_subplot(111) # 111 means 1 row, 1 column, 1st plot in our figure \"panel\"\n",
    "\n",
    "# scatter plot the 2D tree position data\n",
    "ax.scatter(tree_positions[...,0], # x coordinates\n",
    "           tree_positions[...,1]) # y coordinates\n",
    "\n",
    "ax.set_title(\"Trees Remaining After Forest Fire\")\n",
    "ax.set_xlabel('x')\n",
    "ax.set_ylabel('y')"
   ]
  },
  {
   "cell_type": "code",
   "execution_count": null,
   "metadata": {},
   "outputs": [],
   "source": [
    "# The Voronoi diagram will tell us which parts of the forest are closest to which tree\n",
    "# This can be used i.e., as an estimate of the amount of area occupied by each tree (the area around it)\n",
    "\n",
    "vor = scipy.spatial.Voronoi(tree_positions)\n",
    "\n",
    "# it is such a common operation to plot the Voronoi diagram of a set of 2D generators\n",
    "# that SciPy can plot the diagram (using matplotlib under the hood) directly\n",
    "# from the vor object above\n",
    "\n",
    "fig_vor = scipy.spatial.voronoi_plot_2d(vor)"
   ]
  },
  {
   "cell_type": "code",
   "execution_count": null,
   "metadata": {},
   "outputs": [],
   "source": []
  },
  {
   "cell_type": "code",
   "execution_count": null,
   "metadata": {},
   "outputs": [],
   "source": []
  },
  {
   "cell_type": "code",
   "execution_count": null,
   "metadata": {},
   "outputs": [],
   "source": []
  },
  {
   "cell_type": "code",
   "execution_count": null,
   "metadata": {},
   "outputs": [],
   "source": []
  },
  {
   "cell_type": "code",
   "execution_count": null,
   "metadata": {},
   "outputs": [],
   "source": []
  },
  {
   "cell_type": "code",
   "execution_count": null,
   "metadata": {},
   "outputs": [],
   "source": []
  },
  {
   "cell_type": "code",
   "execution_count": null,
   "metadata": {},
   "outputs": [],
   "source": []
  },
  {
   "cell_type": "code",
   "execution_count": null,
   "metadata": {},
   "outputs": [],
   "source": []
  },
  {
   "cell_type": "code",
   "execution_count": null,
   "metadata": {},
   "outputs": [],
   "source": []
  },
  {
   "cell_type": "code",
   "execution_count": null,
   "metadata": {},
   "outputs": [],
   "source": []
  },
  {
   "cell_type": "code",
   "execution_count": null,
   "metadata": {},
   "outputs": [],
   "source": []
  },
  {
   "cell_type": "code",
   "execution_count": null,
   "metadata": {},
   "outputs": [],
   "source": []
  }
 ],
 "metadata": {
  "kernelspec": {
   "display_name": "Python 3",
   "language": "python",
   "name": "python3"
  },
  "language_info": {
   "codemirror_mode": {
    "name": "ipython",
    "version": 3
   },
   "file_extension": ".py",
   "mimetype": "text/x-python",
   "name": "python",
   "nbconvert_exporter": "python",
   "pygments_lexer": "ipython3",
   "version": "3.6.5"
  }
 },
 "nbformat": 4,
 "nbformat_minor": 2
}
