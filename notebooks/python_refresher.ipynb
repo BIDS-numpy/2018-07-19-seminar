{
 "cells": [
  {
   "cell_type": "markdown",
   "metadata": {},
   "source": [
    "# Python Refresher\n",
    "\n",
    "Python has built in types, a rich syntax, and a system for reusing code (modules and libraries).\n",
    "\n",
    "In this lesson we will refresh your memory, the code cells have instructions. We will work through this together. **Ask questions freely**, I already know this stuff"
   ]
  },
  {
   "cell_type": "code",
   "execution_count": null,
   "metadata": {},
   "outputs": [],
   "source": [
    "# assign a to the string 'hello world' and print it. Now print only the second word 'world'"
   ]
  },
  {
   "cell_type": "code",
   "execution_count": null,
   "metadata": {},
   "outputs": [],
   "source": [
    "# assign 7 to an integer n, and 3.1415 to a float x. Print both of them. Print their sum. What type is the result?"
   ]
  },
  {
   "cell_type": "markdown",
   "metadata": {},
   "source": [
    "### Containers\n",
    "\n",
    "There are three basic containers in python: tuples created with `()`, lists created with `[]`, and dictionaries (key-value stores) created with `{}`. There are more: `sets` and variations on these basic ones.\n",
    "\n",
    "Note that the notebook is linear, values created in a previous cell can be accessed in subsequent ones."
   ]
  },
  {
   "cell_type": "code",
   "execution_count": null,
   "metadata": {},
   "outputs": [],
   "source": [
    "# create a tuple `f` that holds a, n, x. Print the first item from the tuple.\n",
    "# create a list `e' that holds a, n, x. Print the first item from the list.\n",
    "# create a dictionary `d` that has keys `a`, `n`, `x` and values `a`, `n`, `x` respectively. \n",
    "# Print the value for the key `a`"
   ]
  },
  {
   "cell_type": "markdown",
   "metadata": {},
   "source": [
    "### Mutability\n",
    "\n",
    "Strings, ints, floats in Python are immutable, they cannot be changed in-place.\n",
    "What about lists, dictionaries, tuples?"
   ]
  },
  {
   "cell_type": "code",
   "execution_count": null,
   "metadata": {},
   "outputs": [],
   "source": [
    "\n",
    "# Apend `f` to `e`, and add both `e` and `f` to `d`\n",
    "# Can you append `e` to `f`?"
   ]
  },
  {
   "cell_type": "code",
   "execution_count": null,
   "metadata": {},
   "outputs": [],
   "source": [
    "# Add a to a, print it. Do the same for f and e. Can you add `d` to `d`? Why or why not?"
   ]
  },
  {
   "cell_type": "code",
   "execution_count": null,
   "metadata": {},
   "outputs": [],
   "source": [
    "# Assign a new variable `g` to `e`. Now change `e`, set its second value to `f`. \n",
    "# What happens to `g`?\n"
   ]
  },
  {
   "cell_type": "code",
   "execution_count": null,
   "metadata": {},
   "outputs": [],
   "source": [
    "# Go back to the 4th cell and re-evaluate it.\n",
    "# Print `e` and `g`. What happened?"
   ]
  },
  {
   "cell_type": "markdown",
   "metadata": {},
   "source": [
    "### Slices and Operators\n",
    "\n",
    "Indexing in python starts at ... ? Slices take the form `[start:stop:step]` where `stop` and `step` can be implied. `start`, `stop` can be negative, which then starts from the end."
   ]
  },
  {
   "cell_type": "code",
   "execution_count": null,
   "metadata": {},
   "outputs": [],
   "source": [
    "# create r as the concatenation of `e`, `e`, `e`, `e`. Can you do it without `+`?\n",
    "# print `r` reversed using indexing\n",
    "# print the last 5 values of `r`"
   ]
  },
  {
   "cell_type": "code",
   "execution_count": 1,
   "metadata": {},
   "outputs": [],
   "source": [
    "# create  r as the integers from 0 to 9. Print the sum."
   ]
  },
  {
   "cell_type": "markdown",
   "metadata": {},
   "source": [
    "### Getting Help\n",
    "\n",
    "google, [the docs](https://www.python.org/doc/), [language reference](https://docs.python.org/3/)"
   ]
  },
  {
   "cell_type": "code",
   "execution_count": 3,
   "metadata": {},
   "outputs": [],
   "source": [
    "# type rang and then hit tab\n",
    "# now go before the r of range and put a question mark. Hit CTRL-ENTER to evaluate the cell"
   ]
  },
  {
   "cell_type": "markdown",
   "metadata": {},
   "source": [
    "### Programming syntax\n",
    "\n",
    "Blocks in python are set off with indentation. In order to start a block, the previous line ends with `:`. Used for function definitions, if/else, for/while, exception handling"
   ]
  },
  {
   "cell_type": "code",
   "execution_count": null,
   "metadata": {},
   "outputs": [],
   "source": [
    "# write a loop that sums the even numbers of `r`. Use `for` and `if`"
   ]
  },
  {
   "cell_type": "code",
   "execution_count": null,
   "metadata": {},
   "outputs": [],
   "source": [
    "# write a function `sum_even` that accepts a list and returns a list of the sum of the even numbers"
   ]
  },
  {
   "cell_type": "code",
   "execution_count": null,
   "metadata": {},
   "outputs": [],
   "source": [
    "# write a function `cumsum` that changes a list in-place to the sum of the numbers before it and returns it"
   ]
  },
  {
   "cell_type": "code",
   "execution_count": null,
   "metadata": {},
   "outputs": [],
   "source": [
    "# use the function on a new list of the numbers from 1 to 10\n",
    "# What can you work out about how functions pass in arguments? How is this different from other languages you know?"
   ]
  },
  {
   "cell_type": "markdown",
   "metadata": {},
   "source": [
    "### Exceptions\n",
    "\n",
    "Exceptions take the form of\n",
    "```\n",
    "try:\n",
    "    # here is what you want to happen\n",
    "except Exception as e:\n",
    "    # here is where you end up if something goes wrong\n",
    "```"
   ]
  },
  {
   "cell_type": "code",
   "execution_count": 12,
   "metadata": {},
   "outputs": [],
   "source": [
    "# rewrite cumsum to raise an exception if there is a non-number in the input"
   ]
  },
  {
   "cell_type": "markdown",
   "metadata": {},
   "source": [
    "### List comprension\n",
    "\n",
    "Python is an interpreted language, which is slow, but it has programming constructs to speed things up and make them look nicer. One very commonly used idiom is `[x for x in lst if has_property(x)]"
   ]
  },
  {
   "cell_type": "code",
   "execution_count": 4,
   "metadata": {},
   "outputs": [],
   "source": [
    "# rewrite the sum above using list comprehension"
   ]
  },
  {
   "cell_type": "markdown",
   "metadata": {},
   "source": [
    "### modules and libraries\n",
    "\n",
    "Useful functions can be put into a text file with the suffix `.py` and loaded into python via the keyword `import`. "
   ]
  },
  {
   "cell_type": "code",
   "execution_count": 5,
   "metadata": {},
   "outputs": [],
   "source": [
    "# import the math module. What does it contain? Use the question mark."
   ]
  },
  {
   "cell_type": "code",
   "execution_count": 6,
   "metadata": {},
   "outputs": [],
   "source": [
    "# now type math. and hit tab"
   ]
  },
  {
   "cell_type": "markdown",
   "metadata": {},
   "source": [
    "The `.` keeps the `math` functions inside the `math` *namespace*. Namespaces are great, embrace them. Don't ignore or try to work around them."
   ]
  },
  {
   "cell_type": "code",
   "execution_count": 11,
   "metadata": {},
   "outputs": [],
   "source": [
    "# use list comprehension to calculate a list of natural logs of the numbers in r \n"
   ]
  },
  {
   "cell_type": "markdown",
   "metadata": {},
   "source": [
    "### Tests\n",
    "\n",
    "Because python is so dynamic, tests are critical to keep your software healthy. Unfortunately, the Notebook framework does not really encourage tests, but we can write some tests. Write a function, `test_cumsum` that checks `cumsum`. Run the test, try to vary the input and output\n",
    "\n",
    "- what happens when ... (think of some strange input and try it out)\n",
    "- what should happend when things go wrong (Exceptions)\n",
    "- How do you know if everythin works out OK?"
   ]
  },
  {
   "cell_type": "code",
   "execution_count": null,
   "metadata": {},
   "outputs": [],
   "source": []
  },
  {
   "cell_type": "markdown",
   "metadata": {},
   "source": [
    "### For more info about tests\n",
    "\n",
    "- Builtin framework for tests - [unittest](https://docs.python.org/3/library/unittest.html)\n",
    "- [Pytest](https://docs.pytest.org/en/latest/assert.html) - use this instead\n",
    "- They say python is psuedocode, use that to your advantage [when documenting](https://docs.python.org/3/library/doctest.html)\n",
    "\n"
   ]
  },
  {
   "cell_type": "code",
   "execution_count": null,
   "metadata": {},
   "outputs": [],
   "source": []
  }
 ],
 "metadata": {
  "kernelspec": {
   "display_name": "Python 3",
   "language": "python",
   "name": "python3"
  },
  "language_info": {
   "codemirror_mode": {
    "name": "ipython",
    "version": 3
   },
   "file_extension": ".py",
   "mimetype": "text/x-python",
   "name": "python",
   "nbconvert_exporter": "python",
   "pygments_lexer": "ipython3",
   "version": "3.6.5"
  }
 },
 "nbformat": 4,
 "nbformat_minor": 2
}
