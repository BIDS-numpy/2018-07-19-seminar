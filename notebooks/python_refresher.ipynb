{
 "cells": [
  {
   "cell_type": "markdown",
   "metadata": {},
   "source": [
    "# Python Refresher\n",
    "\n",
    "From http://scipy-lectures.org:\n",
    "\n",
    "Python is:\n",
    "\n",
    "- an **interpreted** (as opposed to compiled) language. Contrary to e.g. C or Fortran, one does not compile Python code before executing it. In addition, Python can be used interactively: many Python interpreters are available, from which commands and scripts can be executed.\n",
    "- **free software** released under an open-source license: Python can be used and distributed free of charge, even for building commercial software.\n",
    "- **multi-platform**: Python is available for all major operating systems, Windows, Linux/Unix, MacOS X, most likely your mobile phone OS, etc.\n",
    "- a very **readable language** with clear, non-verbose syntax (that maps closely to English!)\n",
    "- a language for which a **large variety of high-quality packages** are available for various applications, from web frameworks to scientific computing.\n",
    "- a language very **easy to interface** with other languages, in particular C and C++.\n",
    "\n",
    "In this lesson we will refresh your memory, the code cells have instructions. We will work through this together.\n",
    "\n",
    "**Ask questions freely; stop me at any time for explanations!**"
   ]
  },
  {
   "cell_type": "code",
   "execution_count": 57,
   "metadata": {},
   "outputs": [],
   "source": [
    "# Assign a to the string 'hello world' and print it. Now print only the second word 'world'"
   ]
  },
  {
   "cell_type": "code",
   "execution_count": 58,
   "metadata": {},
   "outputs": [],
   "source": [
    "# Assign 7 to an integer n, and 3.1415 to a float x.\n",
    "# Print both of them. Print their sum. What type is the result?"
   ]
  },
  {
   "cell_type": "markdown",
   "metadata": {},
   "source": [
    "### Containers\n",
    "\n",
    "There are three basic containers in python: tuples created with `()`, lists created with `[]`, and dictionaries (key-value stores) created with `{}`. There are more: `sets` and variations on these basic ones.\n",
    "\n",
    "Note that the notebook is linear, values created in a previous cell can be accessed in subsequent ones."
   ]
  },
  {
   "cell_type": "code",
   "execution_count": null,
   "metadata": {},
   "outputs": [],
   "source": [
    "# create a tuple `f` that holds a, n, x. Print the first item from the tuple.\n",
    "# create a list `e' that holds a, n, x. Print the first item from the list.\n",
    "# create a dictionary `d` that has keys `a`, `n`, `x` and values `a`, `n`, `x` respectively. \n",
    "# Print the value for the key `a`\n",
    "# create two sets, g and h, that contains some numbers; find their intersection"
   ]
  },
  {
   "cell_type": "markdown",
   "metadata": {},
   "source": [
    "### Mutability\n",
    "\n",
    "Strings, ints, floats in Python are immutable, they cannot be changed in-place.\n",
    "What about lists, dictionaries, tuples?"
   ]
  },
  {
   "cell_type": "code",
   "execution_count": null,
   "metadata": {},
   "outputs": [],
   "source": [
    "# Apend `f` to `e`, and add both `e` and `f` to `d`\n",
    "# Can you append `e` to `f`?"
   ]
  },
  {
   "cell_type": "code",
   "execution_count": null,
   "metadata": {},
   "outputs": [],
   "source": [
    "# Add a to a, print it. Do the same for f and e. Can you add `d` to `d`? Why or why not?"
   ]
  },
  {
   "cell_type": "code",
   "execution_count": null,
   "metadata": {},
   "outputs": [],
   "source": [
    "# Assign 'e' to a new variable `j`. Now change `e`, set its second value to `f`. \n",
    "# What happens to `g`?\n"
   ]
  },
  {
   "cell_type": "code",
   "execution_count": null,
   "metadata": {},
   "outputs": [],
   "source": [
    "# Go back to the 4th cell and re-evaluate it.\n",
    "# Print `e` and `j`. What happened?"
   ]
  },
  {
   "cell_type": "markdown",
   "metadata": {},
   "source": [
    "### Slices and Operators\n",
    "\n",
    "Indexing in python starts at ... ? Slices take the form `[start:stop:step]` where `stop` and `step` can be implied. `start`, `stop` can be negative, which then starts from the end."
   ]
  },
  {
   "cell_type": "code",
   "execution_count": null,
   "metadata": {},
   "outputs": [],
   "source": [
    "# create r as the concatenation of `e`, `e`, `e`, `e`. Can you do it without `+`?\n",
    "# print `r` reversed using indexing\n",
    "# print the last 5 values of `r`"
   ]
  },
  {
   "cell_type": "code",
   "execution_count": null,
   "metadata": {},
   "outputs": [],
   "source": [
    "# create  r as the integers from 0 to 9. Print the sum."
   ]
  },
  {
   "cell_type": "markdown",
   "metadata": {},
   "source": [
    "### Functions"
   ]
  },
  {
   "cell_type": "code",
   "execution_count": null,
   "metadata": {},
   "outputs": [],
   "source": [
    "import math\n",
    "\n",
    "def hypotenuse(a, b=1):\n",
    "    \"\"\"Calculate the hypotenuse of a right triangle.\n",
    "    \n",
    "    Parameters\n",
    "    ----------\n",
    "    a : float\n",
    "        Length of first edge.\n",
    "    b : float, optional\n",
    "        Length of second edge.\n",
    "    \n",
    "    Returns\n",
    "    -------\n",
    "    h : float\n",
    "        Hypotenuse of the triangle.\n",
    "        \n",
    "    \"\"\"\n",
    "    return math.sqrt(a**2 + b**2)\n",
    "\n",
    "hypotenuse(1, 2)"
   ]
  },
  {
   "cell_type": "markdown",
   "metadata": {},
   "source": [
    "#### Generators"
   ]
  },
  {
   "cell_type": "code",
   "execution_count": null,
   "metadata": {},
   "outputs": [],
   "source": [
    "def square_range(n):\n",
    "    for i in range(n):\n",
    "        yield i**2"
   ]
  },
  {
   "cell_type": "markdown",
   "metadata": {},
   "source": [
    "### Getting Help\n",
    "\n",
    "google, [the docs](https://www.python.org/doc/), [language reference](https://docs.python.org/3/), [stackoverflow](https://stackoverflow.com/)"
   ]
  },
  {
   "cell_type": "code",
   "execution_count": null,
   "metadata": {},
   "outputs": [],
   "source": [
    "# type `rang` and then hit tab\n",
    "# type SHIFT-tab to get a docstring\n",
    "# type range? and then execute the cell (SHIFT or CTRL-enter)"
   ]
  },
  {
   "cell_type": "markdown",
   "metadata": {},
   "source": [
    "---\n",
    "\n",
    "### Exercise: Programming syntax\n",
    "\n",
    "Blocks in Python are denoted by indentation. In order to start a block, the previous line ends with `:`. Used for function definitions, if/else, for/while, exception handling.\n",
    "\n",
    "Remember the function syntax:\n"
   ]
  },
  {
   "cell_type": "code",
   "execution_count": null,
   "metadata": {},
   "outputs": [],
   "source": [
    "# write a loop that sums the even numbers of `r`. Use `for` and `if`"
   ]
  },
  {
   "cell_type": "code",
   "execution_count": null,
   "metadata": {},
   "outputs": [],
   "source": [
    "# write a function `sum_even` that accepts a list and returns a list of the sum of the even numbers"
   ]
  },
  {
   "cell_type": "code",
   "execution_count": null,
   "metadata": {},
   "outputs": [],
   "source": [
    "# write a function `cumsum` that changes a list in-place to the sum of the numbers before it and returns it"
   ]
  },
  {
   "cell_type": "code",
   "execution_count": null,
   "metadata": {},
   "outputs": [],
   "source": [
    "# create a new variable p, and assign to it a list of the numbers from 1 to 10\n",
    "# call `cumsum` on `p`\n",
    "# now look at the value of `p`'s value\n",
    "\n",
    "# what does this tell us about the way that values get passed to Python functions?"
   ]
  },
  {
   "cell_type": "markdown",
   "metadata": {},
   "source": [
    "Write a function `divmod(a, b)` that returns both the `div` and the `mod` of `a` by `b`.  Now call the function on `a=5` and `b=2` and check that the results are what you'd expect."
   ]
  },
  {
   "cell_type": "markdown",
   "metadata": {},
   "source": [
    "---"
   ]
  },
  {
   "cell_type": "markdown",
   "metadata": {},
   "source": [
    "### Exceptions\n",
    "\n",
    "Exceptions take the form of\n",
    "```\n",
    "try:\n",
    "    # here is what you want to happen\n",
    "except Exception as e:\n",
    "    # here is where you end up if something goes wrong\n",
    "```"
   ]
  },
  {
   "cell_type": "code",
   "execution_count": null,
   "metadata": {},
   "outputs": [],
   "source": [
    "# rewrite cumsum to raise an exception (`ValueError`) if there is a non-number in the input"
   ]
  },
  {
   "cell_type": "markdown",
   "metadata": {},
   "source": [
    "### List comprension\n",
    "\n",
    "Python is an interpreted language, which is slow, but it has programming constructs to speed things up and make them look nicer. One very commonly used idiom is `[x for x in lst if has_property(x)]\n",
    "\n",
    "1. Square the values in `range(15)` using list comprehension.\n",
    "2. Use list comprehension to find all the prime numbers under 500, given the following function to identify primes."
   ]
  },
  {
   "cell_type": "code",
   "execution_count": null,
   "metadata": {},
   "outputs": [],
   "source": [
    "def is_prime(n):\n",
    "    \"\"\"\"pre-condition: n is a nonnegative integer\n",
    "    post-condition: return True if n is prime and False otherwise.\n",
    "    \n",
    "    See https://stackoverflow.com/a/15285590/214686\n",
    "    \"\"\"\n",
    "    if n < 2: \n",
    "         return False;\n",
    "    if n % 2 == 0:             \n",
    "         return n == 2  # return False\n",
    "    k = 3\n",
    "    while k*k <= n:\n",
    "         if n % k == 0:\n",
    "             return False\n",
    "         k += 2\n",
    "    return True"
   ]
  },
  {
   "cell_type": "markdown",
   "metadata": {},
   "source": [
    "### modules and libraries\n",
    "\n",
    "Useful functions can be put into a text file with the suffix `.py` and loaded into python via the keyword `import`. "
   ]
  },
  {
   "cell_type": "code",
   "execution_count": null,
   "metadata": {},
   "outputs": [],
   "source": [
    "# import the math module. What does it contain?"
   ]
  },
  {
   "cell_type": "code",
   "execution_count": null,
   "metadata": {},
   "outputs": [],
   "source": [
    "# now type math. and hit tab"
   ]
  },
  {
   "cell_type": "markdown",
   "metadata": {},
   "source": [
    "The `.` keeps the `math` functions inside the `math` *namespace*. Namespaces are great, embrace them. Don't ignore or try to work around them (*never* use `from math import *`)."
   ]
  },
  {
   "cell_type": "code",
   "execution_count": null,
   "metadata": {},
   "outputs": [],
   "source": [
    "# use list comprehension to calculate a list of natural logs of the numbers in r \n"
   ]
  },
  {
   "cell_type": "markdown",
   "metadata": {},
   "source": [
    "### Enumerate"
   ]
  },
  {
   "cell_type": "code",
   "execution_count": null,
   "metadata": {},
   "outputs": [],
   "source": [
    "animals = ['cat', 'dog', 'elephant']"
   ]
  },
  {
   "cell_type": "code",
   "execution_count": null,
   "metadata": {},
   "outputs": [],
   "source": [
    "for idx, item in enumerate(animals):\n",
    "    print(idx, item)"
   ]
  },
  {
   "cell_type": "markdown",
   "metadata": {},
   "source": [
    "### zip"
   ]
  },
  {
   "cell_type": "code",
   "execution_count": null,
   "metadata": {},
   "outputs": [],
   "source": [
    "z = zip([1, 2, 3], ['one', 'two', 'three'])"
   ]
  },
  {
   "cell_type": "code",
   "execution_count": null,
   "metadata": {},
   "outputs": [],
   "source": [
    "list(z)"
   ]
  },
  {
   "cell_type": "markdown",
   "metadata": {},
   "source": [
    "### Write your own Python module\n",
    "\n",
    "Write a Python module, `calc.py`, that defines `add`, `sub`, `mul`, `div` for `+`, `-`, `*`, `/`.  Import the module here, and use its functions to calculate (5 + 10) / (3 * 7).\n",
    "\n",
    "[Note: if you modify your `calc.py` file, you may need to do `%reload calc` or restart the kernel (press 00) to reload the new file.  Note that the Jupyter notebook has a \"Run all above\" option in the Cell menu.]"
   ]
  },
  {
   "cell_type": "markdown",
   "metadata": {},
   "source": [
    "### Tests\n",
    "\n",
    "Because python is so dynamic, tests are critical to keep your software healthy. Unfortunately, the Notebook framework does not really encourage tests, but we can write some tests.\n",
    "\n",
    "A test is typically of the form:\n",
    "\n",
    "```python\n",
    "def test_my_func():\n",
    "    x = ...\n",
    "    y = ...\n",
    "    \n",
    "    assert my_func(x, y) == 3  # some assertion\n",
    "```\n",
    "\n",
    "- Write a function, `test_cumsum` that checks `cumsum`.  Start by verifying that it turns `[2, 5, 10]` into `[2, 7, 17]`.\n",
    "\n",
    "- Now, try and think of some corner cases, and test for those as well.\n",
    "\n",
    "- Test to make sure errors get raised under the right conditions."
   ]
  },
  {
   "cell_type": "markdown",
   "metadata": {},
   "source": [
    "### For more info about tests\n",
    "\n",
    "- Builtin framework for tests - [unittest](https://docs.python.org/3/library/unittest.html)\n",
    "- [Pytest](https://docs.pytest.org/en/latest/assert.html) - **use this instead**"
   ]
  },
  {
   "cell_type": "markdown",
   "metadata": {},
   "source": [
    "Let's run the NumPy test suite.  Notice how many tests there are?  You may stop the tests with \"Kernel -> Interrupt\"."
   ]
  },
  {
   "cell_type": "code",
   "execution_count": null,
   "metadata": {},
   "outputs": [],
   "source": [
    "np.__file__"
   ]
  },
  {
   "cell_type": "code",
   "execution_count": null,
   "metadata": {},
   "outputs": [],
   "source": [
    "!pytest /home/stefan/envs/py36/lib/python3.6/site-packages/numpy"
   ]
  }
 ],
 "metadata": {
  "kernelspec": {
   "display_name": "Python 3",
   "language": "python",
   "name": "python3"
  },
  "language_info": {
   "codemirror_mode": {
    "name": "ipython",
    "version": 3
   },
   "file_extension": ".py",
   "mimetype": "text/x-python",
   "name": "python",
   "nbconvert_exporter": "python",
   "pygments_lexer": "ipython3",
   "version": "3.6.6rc1"
  }
 },
 "nbformat": 4,
 "nbformat_minor": 2
}
