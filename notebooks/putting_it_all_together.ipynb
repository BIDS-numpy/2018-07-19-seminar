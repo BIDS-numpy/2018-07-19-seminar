{
 "cells": [
  {
   "cell_type": "markdown",
   "metadata": {},
   "source": [
    "# Exercises to Bring it All Together"
   ]
  },
  {
   "cell_type": "code",
   "execution_count": null,
   "metadata": {},
   "outputs": [],
   "source": [
    "%matplotlib inline\n",
    "import matplotlib.pyplot as plt"
   ]
  },
  {
   "cell_type": "markdown",
   "metadata": {},
   "source": [
    "## Exercise 0 -- Slicing and Dicing\n",
    "\n",
    "**This is a warm-up exercise; if you feel confident of your NumPy & SciPy skills, you can jump straight to Exercise 1**\n",
    "\n",
    "In the film industry, it is often necessary to impose actors on top of a rendered background.  To do that, the actors are filmed on a \"green screen\".  Here's an example shot (``images/greenscreen.jpg``):\n",
    "\n",
    "<img src=\"images/greenscreen.jpg\" width=\"300px\"/>\n",
    "\n",
    "Say we'd like to help these folks travel into a forest (``images/forest.jpg``):\n",
    "\n",
    "<img src=\"images/forest.jpg\" width=\"300px\"/>\n",
    "\n",
    "Can you transplant the foreground of the greenscreen onto the backdrop of the forest?"
   ]
  },
  {
   "cell_type": "code",
   "execution_count": null,
   "metadata": {},
   "outputs": [],
   "source": [
    "import sys\n",
    "!{sys.executable} -m pip install imageio"
   ]
  },
  {
   "cell_type": "code",
   "execution_count": null,
   "metadata": {},
   "outputs": [],
   "source": [
    "import imageio\n",
    "\n",
    "forest = imageio.imread('images/forest.jpg')\n",
    "people = imageio.imread('images/greenscreen.jpg')"
   ]
  },
  {
   "cell_type": "code",
   "execution_count": null,
   "metadata": {},
   "outputs": [],
   "source": [
    "f, (ax0, ax1) = plt.subplots(1, 2, figsize=(15, 10))\n",
    "ax0.imshow(forest)\n",
    "ax1.imshow(people);"
   ]
  },
  {
   "cell_type": "markdown",
   "metadata": {},
   "source": [
    "## Solution for Exercise 0:"
   ]
  },
  {
   "cell_type": "code",
   "execution_count": null,
   "metadata": {},
   "outputs": [],
   "source": [
    "# the two images have different shapes:\n",
    "forest.shape, people.shape"
   ]
  },
  {
   "cell_type": "code",
   "execution_count": null,
   "metadata": {},
   "outputs": [],
   "source": [
    "# resize the larger forest image to match the people image \n",
    "forest = forest[:375, :500, ...]"
   ]
  },
  {
   "cell_type": "code",
   "execution_count": null,
   "metadata": {},
   "outputs": [],
   "source": [
    "import scipy\n",
    "import scipy.ndimage\n",
    "\n",
    "# set up matplotlib figure object\n",
    "fig_exercise_0 = plt.figure()\n",
    "ax_exercise_0 = fig_exercise_0.add_subplot(111)\n",
    "\n",
    "# generate a mask below a large value of green in the rgb data structure (second column)\n",
    "mask = (people[..., 1] < 190)\n",
    "\n",
    "# fill in some of the selection holes in the mask using SciPy\n",
    "mask = scipy.ndimage.morphology.binary_fill_holes(mask)\n",
    "\n",
    "# assign the non-green region of people image to the same pixel regions in the forest image\n",
    "forest[mask] = people[mask]\n",
    "ax_exercise_0.imshow(forest)\n",
    "\n",
    "# there's still a bit of green leeking through, but that's not a bad first pass"
   ]
  },
  {
   "cell_type": "markdown",
   "metadata": {},
   "source": [
    "## Exercise 1 -- Demonstrate Diagram Duality in 2D\n",
    "\n",
    "For the random set of 2D input points selected below, demonstrate visually that the Delaunay triangulation and Voronoi diagram are duals. Specifically, you should be able to demonstrate that the circumcenters of the circumcircles of the Delaunay triangulation can be connected to form the edges of the Voronoi diagram.\n",
    "\n",
    "#### Delaunay triangulation / Voronoi tesselation (different data sets)\n",
    "\n",
    "<img src=\"images/delaunay.png\" width=\"30%\" style=\"float: left\"/>\n",
    "<img src=\"images/Euclidean_Voronoi_diagram.svg.png\" width=\"30%\" style=\"float: left\"/>\n",
    "\n",
    "<div style=\"clear: both\"></div>\n",
    "\n",
    "(Voronoi tesselation by Balu Ertl, CC BY-SA 4.0, https://commons.wikimedia.org/wiki/File:Euclidean_Voronoi_diagram.svg)\n",
    "\n",
    "The initial setup is below."
   ]
  },
  {
   "cell_type": "code",
   "execution_count": null,
   "metadata": {},
   "outputs": [],
   "source": [
    "import numpy as np\n",
    "import scipy\n",
    "import scipy.spatial\n",
    "import matplotlib\n",
    "%matplotlib inline\n",
    "import matplotlib.pyplot as plt\n",
    "\n",
    "np.random.seed(123)\n",
    "generators = np.random.randn(15, 2)\n",
    "generators.shape"
   ]
  },
  {
   "cell_type": "markdown",
   "metadata": {},
   "source": [
    "Step 1: Plot the generators (input points)"
   ]
  },
  {
   "cell_type": "code",
   "execution_count": null,
   "metadata": {},
   "outputs": [],
   "source": []
  },
  {
   "cell_type": "markdown",
   "metadata": {},
   "source": [
    "Step 2: Plot the Voronoi diagram along with its generators."
   ]
  },
  {
   "cell_type": "code",
   "execution_count": null,
   "metadata": {},
   "outputs": [],
   "source": []
  },
  {
   "cell_type": "markdown",
   "metadata": {},
   "source": [
    "Step 3: Plot the Delaunay triangulation alongside the Voronoi diagram and generators."
   ]
  },
  {
   "cell_type": "code",
   "execution_count": null,
   "metadata": {},
   "outputs": [],
   "source": []
  },
  {
   "cell_type": "markdown",
   "metadata": {},
   "source": [
    "Step 4: Plot the circumcircles and their centers over top of the Delaunay Triangulation & Voronoi diagram + generators.\n",
    "\n",
    "**Hint:** Plotting circles in Matplotlib:"
   ]
  },
  {
   "cell_type": "code",
   "execution_count": null,
   "metadata": {},
   "outputs": [],
   "source": [
    "circle = plt.Circle((2, 5), 0.5, facecolor='None', edgecolor='red')\n",
    "\n",
    "fig, ax = plt.subplots()\n",
    "\n",
    "ax.add_artist(circle)\n",
    "ax.scatter([1,2,3], [4,5,6])\n",
    "ax.axis('equal');"
   ]
  },
  {
   "cell_type": "markdown",
   "metadata": {},
   "source": [
    "Step 5: Connect the circumenters of circumcircles of neighboring triangles (hint: you may need to check the SciPy documentation for `Delaunay`--try looking for information about neighboring triangles)"
   ]
  },
  {
   "cell_type": "markdown",
   "metadata": {},
   "source": [
    "## Solution for Exercise 1:"
   ]
  },
  {
   "cell_type": "code",
   "execution_count": null,
   "metadata": {},
   "outputs": [],
   "source": [
    "# set up the matplotlib figure / axis objects as usual\n",
    "fig_exercise_1 = plt.figure()\n",
    "ax_exercise_1 = fig_exercise_1.add_subplot(111)\n",
    "\n",
    "# scatter the generators (input points) on the plot\n",
    "ax_exercise_1.scatter(generators[...,0],\n",
    "                      generators[...,1],\n",
    "                      c='black') # note that these generators actually get concealed by re-plotting in delaunay_plot_2d below\n",
    "\n",
    "# overlay the Voronoi diagram using SciPy\n",
    "vor = scipy.spatial.Voronoi(generators)\n",
    "scipy.spatial.voronoi_plot_2d(vor=vor,\n",
    "                              ax=ax_exercise_1, # let SciPy use the axis object that we've already intialized with generators present\n",
    "                              show_points=False) # we've already plotted the generators above \n",
    "\n",
    "# likewise for adding in the Delaunay triangles\n",
    "tri = scipy.spatial.Delaunay(generators)\n",
    "scipy.spatial.delaunay_plot_2d(tri=tri,\n",
    "                               ax=ax_exercise_1)\n",
    "\n",
    "# write a function for calculating the circumcircles of the triangles (this is admittedly rather difficult)\n",
    "import math\n",
    "\n",
    "def calc_circumcircle(array_triangle_vertices):\n",
    "    '''The input array of triangle vertices should have shape (N_triangles, 3, 2) and this function should use the vertex information to calculate\n",
    "       and return numpy arrays containing the circumcenters and circumradii for the circumcircles of each triangle.'''\n",
    "    \n",
    "    def sum_squares_vertex(coordinates):\n",
    "        square_coordinates = [coordinate**2 for coordinate in coordinates]\n",
    "        sum_squares = sum(square_coordinates)\n",
    "        return sum_squares\n",
    "    \n",
    "    def calc_sum_squares_each_vertex(vertex_1_coords,vertex_2_coords,vertex_3_coords):\n",
    "        vertex_1_sum_squares = sum_squares_vertex(vertex_1_coords)\n",
    "        vertex_2_sum_squares = sum_squares_vertex(vertex_2_coords)\n",
    "        vertex_3_sum_squares = sum_squares_vertex(vertex_3_coords)\n",
    "        return (vertex_1_sum_squares, vertex_2_sum_squares, vertex_3_sum_squares)\n",
    "    \n",
    "    list_circumcenters = [] # an ordered list of circumcenter coords\n",
    "    list_circumradii = [] # a correspondingly ordered list of circumradii\n",
    "    \n",
    "    for triangle in array_triangle_vertices:\n",
    "        vertex_1_sum_squares, vertex_2_sum_squares, vertex_3_sum_squares = calc_sum_squares_each_vertex(triangle[0,...],triangle[1,...],triangle[2,...])\n",
    "        x_determinant = np.array([[vertex_1_sum_squares, triangle[0,1], 1],\n",
    "                                  [vertex_2_sum_squares, triangle[1,1], 1],\n",
    "                                  [vertex_3_sum_squares, triangle[2,1], 1]])\n",
    "        y_determinant = np.array([[vertex_1_sum_squares, triangle[0,0], 1],\n",
    "                                  [vertex_2_sum_squares, triangle[1,0], 1],\n",
    "                                  [vertex_3_sum_squares, triangle[2,0], 1]])\n",
    "        a_determinant = np.array([[triangle[0,0], triangle[0,1], 1],\n",
    "                                  [triangle[1,0], triangle[1,1], 1],\n",
    "                                  [triangle[2,0], triangle[2,1], 1]])\n",
    "        c_determinant = np.array([[vertex_1_sum_squares,triangle[0,0],triangle[0,1]],\n",
    "                                  [vertex_2_sum_squares,triangle[1,0],triangle[1,1]],\n",
    "                                  [vertex_3_sum_squares,triangle[2,0],triangle[2,1]]])\n",
    "        \n",
    "        denominator = 2.0 * np.linalg.det(a_determinant)\n",
    "        circumcenter_x_coordinate = np.linalg.det(x_determinant) / denominator\n",
    "        circumcenter_y_coordinate = -1.0 * (np.linalg.det(y_determinant)/ denominator)\n",
    "        \n",
    "        #adjuting for the negative coefficient of c:\n",
    "        circumradius = math.sqrt(np.linalg.det(x_determinant)**2 + np.linalg.det(y_determinant)**2 + (4 * np.linalg.det(a_determinant) * np.linalg.det(c_determinant))) / (2 * abs(np.linalg.det(a_determinant)))\n",
    "        #append the values of interest to their respective lists:\n",
    "        list_circumcenters.append([circumcenter_x_coordinate,circumcenter_y_coordinate])\n",
    "        list_circumradii.append([circumradius])\n",
    "    #return a tuple of numpy arrays:\n",
    "    return (np.array(list_circumcenters), np.array(list_circumradii))\n",
    "\n",
    "#deal with calculating and plotting the circumcircles\n",
    "from matplotlib.collections import PatchCollection\n",
    "circumcenters, circumradii = calc_circumcircle(tri.points[tri.simplices])\n",
    "patches = []\n",
    "\n",
    "for circumcenter_coordinates, circumradius in zip(circumcenters,circumradii):\n",
    "    patches.append(matplotlib.patches.Circle((circumcenter_coordinates[0], circumcenter_coordinates[1]), circumradius[0], fill=False, alpha=1.0, fc='none', ec='none',))\n",
    "p = PatchCollection(patches, alpha=0.1, match_original = True)\n",
    "ax_exercise_1.add_collection(p)\n",
    "\n",
    "# use an equal aspect ratio (circles may appear stretched otherwise)\n",
    "ax_exercise_1.set_aspect('equal')\n",
    "\n",
    "# adjust the size of the figure object\n",
    "fig_exercise_1.set_size_inches(10, 10)"
   ]
  },
  {
   "cell_type": "markdown",
   "metadata": {},
   "source": [
    "It should now be clear without any additional effort that the Voronoi vertices are actually\n",
    "the circumcenters of the circumcircles of the Delaunay triangles, and that the connection\n",
    "of these circumcenters forms the Voronoi edges."
   ]
  },
  {
   "cell_type": "markdown",
   "metadata": {},
   "source": [
    "## Exercise 2 -- Algorithm Time Complexity\n",
    "\n",
    "A common concern in computational geometry is the time complexity of an algorithm (the growth of code execution time as a function of algorithm input size).\n",
    "\n",
    "Compare the execution times of `numpy.sum()` and `scipy.spatial.Voronoi()` for the same input data sets, collecting the results in NumPy arrays and reporting average and standard deviation values of the execution times over a set of trials with increasingly large data sets."
   ]
  },
  {
   "cell_type": "markdown",
   "metadata": {},
   "source": [
    "## Solution for Exercise 2"
   ]
  },
  {
   "cell_type": "markdown",
   "metadata": {},
   "source": [
    "Step 1: Initialize some NumPy arrays for storing the results of the timings for sum and Voronoi"
   ]
  },
  {
   "cell_type": "code",
   "execution_count": null,
   "metadata": {},
   "outputs": [],
   "source": [
    "timing_string = 'time_values'\n",
    "dimensions = 2 # use 2D data\n",
    "list_sizes = [10, 100, 500, 10**3, 10**4, 10**5] # use a range of data input sizes\n",
    "num_trials = 5\n",
    "\n",
    "# using a dictionary to organize / categorize the NumPy arrays is helpful here\n",
    "dict_timing_results = {'sum':{}, 'vor':{}}\n",
    "\n",
    "# build up the dictionary data structure\n",
    "for benchmark_name in dict_timing_results.keys():\n",
    "    for size in list_sizes:\n",
    "        benchmark_string = timing_string + str(size)\n",
    "        dict_timing_results[benchmark_name][benchmark_string] = np.zeros(num_trials)\n",
    "    \n",
    "# visually confirm a sensible dict & NumPy array data structure    \n",
    "dict_timing_results"
   ]
  },
  {
   "cell_type": "markdown",
   "metadata": {},
   "source": [
    "Step 2: Write a for loop that runs the timing trials and stores the timing results in the NumPy arrays that are appropriately named for the data inputs being stored within them. This will also involve generating matching data sets that work with both sum() and Voronoi()"
   ]
  },
  {
   "cell_type": "code",
   "execution_count": null,
   "metadata": {},
   "outputs": [],
   "source": [
    "import time # useful for timing\n",
    "\n",
    "for trial in range(num_trials):\n",
    "    for function, bench_name in zip([np.sum, scipy.spatial.Voronoi], ['sum', 'vor']):\n",
    "        for size in list_sizes:\n",
    "            # pin down the random number seed for consistency\n",
    "            # each algorithm will get the same data structure & values\n",
    "            np.random.seed(123) # any integer number should work here\n",
    "            input_data = np.random.randn(size, dimensions)\n",
    "            \n",
    "            # only time the operation of interest, in seconds\n",
    "            start = time.time()\n",
    "            # the actual benchmarked function call for the current data input size:\n",
    "            function(input_data)\n",
    "            end = time.time()\n",
    "            \n",
    "            # store the timing results in the dictionary object within the appropriate array index\n",
    "            dict_timing_results[bench_name]['time_values' + str(size)][trial] = end - start\n",
    "            "
   ]
  },
  {
   "cell_type": "markdown",
   "metadata": {},
   "source": [
    "Step 3: Calculate the average and standard deviation of the results and compare the increases in execution time for sum() and Voronoi() as data input size increases in a plot. Include the standard deviation \"error bars\" in your plot. Hint: matplotlib has an `errorbar` plot function, for example."
   ]
  },
  {
   "cell_type": "code",
   "execution_count": null,
   "metadata": {},
   "outputs": [],
   "source": [
    "# iterate through the dictionary entries and calculate / plot / label accordingly\n",
    "\n",
    "# first calculate average / std. dev values and store in the dict\n",
    "for bench_name in dict_timing_results.keys():\n",
    "    for size in list_sizes:\n",
    "        key = 'time_values' + str(size)\n",
    "        timings = dict_timing_results[bench_name][key]\n",
    "        dict_timing_results[bench_name][str(size) + 'avg'] = np.average(timings)\n",
    "        dict_timing_results[bench_name][str(size) + 'std'] = np.std(timings)\n",
    "    \n",
    "# then plot the avg / std. dev. results\n",
    "\n",
    "fig_exercise_2 = plt.figure()\n",
    "ax_exercise_2 = fig_exercise_2.add_subplot(111)\n",
    "\n",
    "for bench_name, color in zip(dict_timing_results.keys(), ['orange', 'green']):\n",
    "    for size in list_sizes:\n",
    "        avg_val = dict_timing_results[bench_name][str(size) + 'avg']\n",
    "        std_val = dict_timing_results[bench_name][str(size) + 'std']\n",
    "        if size != 10: # avoid duplicate legend entries\n",
    "            ax_exercise_2.errorbar(size, avg_val, yerr=std_val, c=color, alpha=0.5, fmt='o')\n",
    "        else: # add the legend initially\n",
    "            ax_exercise_2.errorbar(size, avg_val, yerr=std_val, c=color, alpha=0.5, label=bench_name, fmt='o')\n",
    "\n",
    "# use log scale on x, y axes for clarity\n",
    "ax_exercise_2.set_xscale(\"log\")\n",
    "ax_exercise_2.set_yscale(\"log\")\n",
    "\n",
    "# adjust figure size\n",
    "fig_exercise_2.set_size_inches(10, 10)\n",
    "\n",
    "# set various labels / axis limits\n",
    "ax_exercise_2.set_title(\"Timing 5 trials of np.sum and scipy.spatial.Voronoi\\n using the same input data\", fontsize=25)\n",
    "ax_exercise_2.set_xlabel(\"Log input size\", fontsize=24)\n",
    "ax_exercise_2.set_ylabel(\"Log execution time (sec)\", fontsize=25)\n",
    "ax_exercise_2.set_ylim(1e-6, 1)\n",
    "\n",
    "# add a legend\n",
    "ax_exercise_2.legend(fontsize=24, loc=2)\n",
    "    \n"
   ]
  },
  {
   "cell_type": "markdown",
   "metadata": {},
   "source": [
    "## Course feedback\n",
    "\n",
    "On a blank piece of paper, please write **(a)** one thing you enjoyed about the course and **(b)** one thing that we can improve.\n",
    "\n",
    "Thank you!"
   ]
  }
 ],
 "metadata": {
  "kernelspec": {
   "display_name": "Python 3",
   "language": "python",
   "name": "python3"
  },
  "language_info": {
   "codemirror_mode": {
    "name": "ipython",
    "version": 3
   },
   "file_extension": ".py",
   "mimetype": "text/x-python",
   "name": "python",
   "nbconvert_exporter": "python",
   "pygments_lexer": "ipython3",
   "version": "3.6.1"
  }
 },
 "nbformat": 4,
 "nbformat_minor": 2
}
