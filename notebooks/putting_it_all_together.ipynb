{
 "cells": [
  {
   "cell_type": "markdown",
   "metadata": {},
   "source": [
    "# Exercises to Bring it All Together"
   ]
  },
  {
   "cell_type": "code",
   "execution_count": null,
   "metadata": {},
   "outputs": [],
   "source": [
    "%matplotlib inline\n",
    "import matplotlib.pyplot as plt"
   ]
  },
  {
   "cell_type": "markdown",
   "metadata": {},
   "source": [
    "## Exercise 0 -- Slicing and Dicing\n",
    "\n",
    "**This is a warm-up exercise; if you feel confident of your NumPy & SciPy skills, you can jump straight to Exercise 1**\n",
    "\n",
    "In the film industry, it is often necessary to impose actors on top of a rendered background.  To do that, the actors are filmed on a \"green screen\".  Here's an example shot (``images/greenscreen.jpg``):\n",
    "\n",
    "<img src=\"images/greenscreen.jpg\" width=\"300px\"/>\n",
    "\n",
    "Say we'd like to help these folks travel into a forest (``images/forest.jpg``):\n",
    "\n",
    "<img src=\"images/forest.jpg\" width=\"300px\"/>\n",
    "\n",
    "Can you transplant the foreground of the greenscreen onto the backdrop of the forest?"
   ]
  },
  {
   "cell_type": "code",
   "execution_count": null,
   "metadata": {},
   "outputs": [],
   "source": [
    "import sys\n",
    "!{sys.executable} -m pip install imageio"
   ]
  },
  {
   "cell_type": "code",
   "execution_count": null,
   "metadata": {},
   "outputs": [],
   "source": [
    "import imageio\n",
    "\n",
    "forest = imageio.imread('images/forest.jpg')\n",
    "people = imageio.imread('images/greenscreen.jpg')"
   ]
  },
  {
   "cell_type": "code",
   "execution_count": null,
   "metadata": {},
   "outputs": [],
   "source": [
    "f, (ax0, ax1) = plt.subplots(1, 2, figsize=(15, 10))\n",
    "ax0.imshow(forest)\n",
    "ax1.imshow(people);"
   ]
  },
  {
   "cell_type": "markdown",
   "metadata": {},
   "source": [
    "## Exercise 1 -- Demonstrate Diagram Duality in 2D\n",
    "\n",
    "For the random set of 2D input points selected below, demonstrate visually that the Delaunay triangulation and Voronoi diagram are duals. Specifically, you should be able to demonstrate that the circumcenters of the circumcircles of the Delaunay triangulation can be connected to form the edges of the Voronoi diagram.\n",
    "\n",
    "#### Delaunay triangulation / Voronoi tesselation (different data sets)\n",
    "\n",
    "<img src=\"images/delaunay.png\" width=\"30%\" style=\"float: left\"/>\n",
    "<img src=\"images/Euclidean_Voronoi_diagram.svg.png\" width=\"30%\" style=\"float: left\"/>\n",
    "\n",
    "<div style=\"clear: both\"></div>\n",
    "\n",
    "(Voronoi tesselation by Balu Ertl, CC BY-SA 4.0, https://commons.wikimedia.org/wiki/File:Euclidean_Voronoi_diagram.svg)\n",
    "\n",
    "The initial setup is below."
   ]
  },
  {
   "cell_type": "code",
   "execution_count": null,
   "metadata": {},
   "outputs": [],
   "source": [
    "import numpy as np\n",
    "import scipy\n",
    "import scipy.spatial\n",
    "import matplotlib\n",
    "%matplotlib inline\n",
    "import matplotlib.pyplot as plt\n",
    "\n",
    "np.random.seed(123)\n",
    "generators = np.random.randn(15, 2)\n",
    "generators.shape"
   ]
  },
  {
   "cell_type": "markdown",
   "metadata": {},
   "source": [
    "Step 1: Plot the generators (input points)"
   ]
  },
  {
   "cell_type": "code",
   "execution_count": null,
   "metadata": {},
   "outputs": [],
   "source": []
  },
  {
   "cell_type": "markdown",
   "metadata": {},
   "source": [
    "Step 2: Plot the Voronoi diagram along with its generators."
   ]
  },
  {
   "cell_type": "code",
   "execution_count": null,
   "metadata": {},
   "outputs": [],
   "source": []
  },
  {
   "cell_type": "markdown",
   "metadata": {},
   "source": [
    "Step 3: Plot the Delaunay triangulation alongside the Voronoi diagram and generators."
   ]
  },
  {
   "cell_type": "code",
   "execution_count": null,
   "metadata": {},
   "outputs": [],
   "source": []
  },
  {
   "cell_type": "markdown",
   "metadata": {},
   "source": [
    "Step 4: Plot the circumcircles and their centers over top of the Delaunay Triangulation & Voronoi diagram + generators.\n",
    "\n",
    "**Hint:** Plotting circles in Matplotlib:"
   ]
  },
  {
   "cell_type": "code",
   "execution_count": null,
   "metadata": {},
   "outputs": [],
   "source": [
    "circle = plt.Circle((2, 5), 0.5, facecolor='None', edgecolor='red')\n",
    "\n",
    "fig, ax = plt.subplots()\n",
    "\n",
    "ax.add_artist(circle)\n",
    "ax.scatter([1,2,3], [4,5,6])\n",
    "ax.axis('equal');"
   ]
  },
  {
   "cell_type": "markdown",
   "metadata": {},
   "source": [
    "Step 5: Connect the circumenters of circumcircles of neighboring triangles (hint: you may need to check the SciPy documentation for `Delaunay`--try looking for information about neighboring triangles)"
   ]
  },
  {
   "cell_type": "markdown",
   "metadata": {},
   "source": [
    "## Exercise 2 -- Algorithm Time Complexity\n",
    "\n",
    "A common concern in computational geometry is the time complexity of an algorithm (the growth of code execution time as a function of algorithm input size).\n",
    "\n",
    "Compare the execution times of `numpy.sum()` and `scipy.spatial.Voronoi()` for the same input data sets, collecting the results in NumPy arrays and reporting average and standard deviation values of the execution times over a set of trials with increasingly large data sets."
   ]
  },
  {
   "cell_type": "markdown",
   "metadata": {},
   "source": [
    "Step 1: Initialize some NumPy arrays for storing the results of the timings for sum and Voronoi"
   ]
  },
  {
   "cell_type": "code",
   "execution_count": null,
   "metadata": {},
   "outputs": [],
   "source": []
  },
  {
   "cell_type": "markdown",
   "metadata": {},
   "source": [
    "Step 2: Write a for loop that runs the timing trials and stores the timing results in the NumPy arrays that are appropriately named for the data inputs being stored within them. This will also involve generating matching data sets that work with both sum() and Voronoi()"
   ]
  },
  {
   "cell_type": "code",
   "execution_count": null,
   "metadata": {},
   "outputs": [],
   "source": []
  },
  {
   "cell_type": "markdown",
   "metadata": {},
   "source": [
    "Step 3: Calculate the average and standard deviation of the results and compare the increases in execution time for sum() and Voronoi() as data input size increases in a plot. Include the standard deviation \"error bars\" in your plot. Hint: matplotlib has an `errorbar` plot function, for example."
   ]
  },
  {
   "cell_type": "markdown",
   "metadata": {},
   "source": [
    "## Course feedback\n",
    "\n",
    "On a blank piece of paper, please write **(a)** one thing you enjoyed about the course and **(b)** one thing that we can improve.\n",
    "\n",
    "Thank you!"
   ]
  }
 ],
 "metadata": {
  "kernelspec": {
   "display_name": "Python 3",
   "language": "python",
   "name": "python3"
  },
  "language_info": {
   "codemirror_mode": {
    "name": "ipython",
    "version": 3
   },
   "file_extension": ".py",
   "mimetype": "text/x-python",
   "name": "python",
   "nbconvert_exporter": "python",
   "pygments_lexer": "ipython3",
   "version": "3.6.6rc1"
  }
 },
 "nbformat": 4,
 "nbformat_minor": 2
}
